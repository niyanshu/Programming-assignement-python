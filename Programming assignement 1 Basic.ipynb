{
 "cells": [
  {
   "cell_type": "markdown",
   "metadata": {},
   "source": [
    "1.\tWrite a Python program to print \"Hello Python\"?"
   ]
  },
  {
   "cell_type": "code",
   "execution_count": 1,
   "metadata": {},
   "outputs": [
    {
     "name": "stdout",
     "output_type": "stream",
     "text": [
      "Hello Python\n"
     ]
    }
   ],
   "source": [
    "print(\"Hello Python\")"
   ]
  },
  {
   "cell_type": "markdown",
   "metadata": {},
   "source": [
    "2.\tWrite a Python program to do arithmetical operations addition and division.?"
   ]
  },
  {
   "cell_type": "code",
   "execution_count": 7,
   "metadata": {
    "scrolled": true
   },
   "outputs": [
    {
     "name": "stdout",
     "output_type": "stream",
     "text": [
      "Enter a number x =12\n",
      "Enter a number y =12\n",
      "Addition of 12.0 and 12.0 is 24.0\n",
      "Division of 12.0 and 12.0 is 1.0\n"
     ]
    }
   ],
   "source": [
    "x=float(input(\"Enter a number x =\"))\n",
    "y=float(input(\"Enter a number y =\"))\n",
    "w=x+y\n",
    "z=x/y\n",
    "print(\"Addition of {} and {} is {}\".format(x,y,w))\n",
    "print(\"Division of {} and {} is {}\".format(x,y,z))"
   ]
  },
  {
   "cell_type": "markdown",
   "metadata": {},
   "source": [
    "3.\tWrite a Python program to find the area of a triangle?"
   ]
  },
  {
   "cell_type": "code",
   "execution_count": 6,
   "metadata": {},
   "outputs": [
    {
     "name": "stdout",
     "output_type": "stream",
     "text": [
      "Enter the first side of triangle a= 12\n",
      "Enter the second side of triangle b= 12\n",
      "Enter the third side of triangle c= 12\n",
      "Area of triangle is 62.353829072479584\n"
     ]
    }
   ],
   "source": [
    "a=float(input(\"Enter the first side of triangle a= \"))\n",
    "b=float(input(\"Enter the second side of triangle b= \"))\n",
    "c= float(input(\"Enter the third side of triangle c= \"))\n",
    "\n",
    "s = (a + b + c) / 2.0\n",
    "area = (s*(s-a)*(s-b)*(s-c)) ** 0.5\n",
    "print(\"Area of triangle is {}\".format(area))"
   ]
  },
  {
   "cell_type": "markdown",
   "metadata": {},
   "source": [
    "4.\tWrite a Python program to swap two variables?"
   ]
  },
  {
   "cell_type": "code",
   "execution_count": 9,
   "metadata": {},
   "outputs": [
    {
     "name": "stdout",
     "output_type": "stream",
     "text": [
      "Enter a number x =23\n",
      "Enter a number y =34\n",
      "After swap x =34.0\n",
      "After swap y =23.0\n"
     ]
    }
   ],
   "source": [
    "x=float(input(\"Enter a number x =\"))\n",
    "y=float(input(\"Enter a number y =\"))\n",
    "x,y=y,x\n",
    "print(\"After swap x ={}\".format(x))\n",
    "print(\"After swap y ={}\".format(y))"
   ]
  },
  {
   "cell_type": "markdown",
   "metadata": {},
   "source": [
    "5.\tWrite a Python program to generate a random number?"
   ]
  },
  {
   "cell_type": "code",
   "execution_count": 16,
   "metadata": {},
   "outputs": [
    {
     "name": "stdout",
     "output_type": "stream",
     "text": [
      "0.47723670701666376\n"
     ]
    }
   ],
   "source": [
    "import random\n",
    "n = random. random()\n",
    "print(n)"
   ]
  },
  {
   "cell_type": "code",
   "execution_count": null,
   "metadata": {},
   "outputs": [],
   "source": []
  },
  {
   "cell_type": "code",
   "execution_count": null,
   "metadata": {},
   "outputs": [],
   "source": []
  }
 ],
 "metadata": {
  "kernelspec": {
   "display_name": "Python 3",
   "language": "python",
   "name": "python3"
  },
  "language_info": {
   "codemirror_mode": {
    "name": "ipython",
    "version": 3
   },
   "file_extension": ".py",
   "mimetype": "text/x-python",
   "name": "python",
   "nbconvert_exporter": "python",
   "pygments_lexer": "ipython3",
   "version": "3.8.5"
  }
 },
 "nbformat": 4,
 "nbformat_minor": 4
}
