{
 "cells": [
  {
   "cell_type": "markdown",
   "metadata": {},
   "source": [
    "Q1. Write a Python Program to Find LCM?"
   ]
  },
  {
   "cell_type": "code",
   "execution_count": 12,
   "metadata": {},
   "outputs": [
    {
     "data": {
      "text/plain": [
       "6"
      ]
     },
     "execution_count": 12,
     "metadata": {},
     "output_type": "execute_result"
    }
   ],
   "source": [
    "def lcm(a,b):\n",
    "    if a>b:\n",
    "        greater=a\n",
    "    else:\n",
    "        greater=b\n",
    "    while(True):\n",
    "        if((greater%a==0)&(greater%b==0)):\n",
    "            lcm=greater\n",
    "            break\n",
    "        greater=greater+1\n",
    "    return lcm\n",
    "\n",
    "lcm(2,3)"
   ]
  },
  {
   "cell_type": "markdown",
   "metadata": {},
   "source": [
    "2.\tWrite a Python Program to Find HCF?"
   ]
  },
  {
   "cell_type": "code",
   "execution_count": 15,
   "metadata": {},
   "outputs": [
    {
     "data": {
      "text/plain": [
       "5"
      ]
     },
     "execution_count": 15,
     "metadata": {},
     "output_type": "execute_result"
    }
   ],
   "source": [
    "def hcf(a,b):\n",
    "    if a<b:\n",
    "        smaller=a\n",
    "    else:\n",
    "        smaller=b\n",
    "    while(True):\n",
    "        if((a%smaller==0)&(b%smaller==0)):\n",
    "            lcm=smaller\n",
    "            break\n",
    "        smaller=smaller-1\n",
    "    return lcm\n",
    "\n",
    "hcf(10,15)"
   ]
  },
  {
   "cell_type": "markdown",
   "metadata": {},
   "source": [
    "3.\tWrite a Python Program to Convert Decimal to Binary, Octal and Hexadecimal?"
   ]
  },
  {
   "cell_type": "code",
   "execution_count": 16,
   "metadata": {},
   "outputs": [
    {
     "name": "stdout",
     "output_type": "stream",
     "text": [
      "The decimal value of 123 is:\n",
      "0b1111011 in binary.\n",
      "0o173 in octal.\n",
      "0x7b in hexadecimal.\n"
     ]
    }
   ],
   "source": [
    "dec =123\n",
    "\n",
    "print(\"The decimal value of\", dec, \"is:\")\n",
    "print(bin(dec), \"in binary.\")\n",
    "print(oct(dec), \"in octal.\")\n",
    "print(hex(dec), \"in hexadecimal.\")"
   ]
  },
  {
   "cell_type": "markdown",
   "metadata": {},
   "source": [
    "4.\tWrite a Python Program To Find ASCII value of a character?"
   ]
  },
  {
   "cell_type": "code",
   "execution_count": 17,
   "metadata": {},
   "outputs": [
    {
     "name": "stdout",
     "output_type": "stream",
     "text": [
      "The ASCII value of 'p' is 112\n"
     ]
    }
   ],
   "source": [
    "c = 'p'\n",
    "print(\"The ASCII value of '\" + c + \"' is\", ord(c))"
   ]
  },
  {
   "cell_type": "code",
   "execution_count": 20,
   "metadata": {},
   "outputs": [
    {
     "data": {
      "text/plain": [
       "'A'"
      ]
     },
     "execution_count": 20,
     "metadata": {},
     "output_type": "execute_result"
    }
   ],
   "source": [
    "chr(65)"
   ]
  },
  {
   "cell_type": "markdown",
   "metadata": {},
   "source": [
    "5.\tWrite a Python Program to Make a Simple Calculator with 4 basic mathematical operations?"
   ]
  },
  {
   "cell_type": "code",
   "execution_count": 22,
   "metadata": {},
   "outputs": [
    {
     "name": "stdout",
     "output_type": "stream",
     "text": [
      "Select operation.\n",
      "1.Add\n",
      "2.Subtract\n",
      "3.Multiply\n",
      "4.Divide\n",
      "Enter choice(1/2/3/4):1\n",
      "Enter first number: 2\n",
      "Enter second number: 3\n",
      "2 + 3 = 5\n"
     ]
    }
   ],
   "source": [
    "def add(x, y):  \n",
    "   return x + y \n",
    "def subtract(x, y): \n",
    "   return x - y \n",
    "def multiply(x, y): \n",
    "   return x * y \n",
    "def divide(x, y):  \n",
    "   return x / y  \n",
    "print(\"Select operation.\")  \n",
    "print(\"1.Add\")  \n",
    "print(\"2.Subtract\")  \n",
    "print(\"3.Multiply\")  \n",
    "print(\"4.Divide\")  \n",
    "  \n",
    "choice = input(\"Enter choice(1/2/3/4):\")  \n",
    "  \n",
    "num1 = int(input(\"Enter first number: \"))  \n",
    "num2 = int(input(\"Enter second number: \"))  \n",
    "  \n",
    "if choice == '1':  \n",
    "   print(num1,\"+\",num2,\"=\", add(num1,num2))  \n",
    "  \n",
    "elif choice == '2':  \n",
    "   print(num1,\"-\",num2,\"=\", subtract(num1,num2))  \n",
    "  \n",
    "elif choice == '3':  \n",
    "   print(num1,\"*\",num2,\"=\", multiply(num1,num2))  \n",
    "elif choice == '4':  \n",
    "   print(num1,\"/\",num2,\"=\", divide(num1,num2))  \n",
    "else:  \n",
    "   print(\"Invalid input\")  "
   ]
  },
  {
   "cell_type": "code",
   "execution_count": null,
   "metadata": {},
   "outputs": [],
   "source": []
  }
 ],
 "metadata": {
  "kernelspec": {
   "display_name": "Python 3",
   "language": "python",
   "name": "python3"
  },
  "language_info": {
   "codemirror_mode": {
    "name": "ipython",
    "version": 3
   },
   "file_extension": ".py",
   "mimetype": "text/x-python",
   "name": "python",
   "nbconvert_exporter": "python",
   "pygments_lexer": "ipython3",
   "version": "3.8.5"
  }
 },
 "nbformat": 4,
 "nbformat_minor": 4
}
